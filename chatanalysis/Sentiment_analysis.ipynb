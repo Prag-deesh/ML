{
  "nbformat": 4,
  "nbformat_minor": 0,
  "metadata": {
    "colab": {
      "provenance": []
    },
    "kernelspec": {
      "name": "python3",
      "display_name": "Python 3"
    },
    "language_info": {
      "name": "python"
    }
  },
  "cells": [
    {
      "cell_type": "markdown",
      "source": [
        "Loading the libs\n"
      ],
      "metadata": {
        "id": "w6UNUOLDwxFW"
      }
    },
    {
      "cell_type": "code",
      "source": [
        "import pandas as pd \n",
        "import nltk\n",
        "from nltk.sentiment.vader import SentimentIntensityAnalyzer "
      ],
      "metadata": {
        "id": "MvWDuvTDleO4"
      },
      "execution_count": null,
      "outputs": []
    },
    {
      "cell_type": "markdown",
      "source": [
        "Lexicon acts as a dictionary "
      ],
      "metadata": {
        "id": "Owu2UTY4rUZc"
      }
    },
    {
      "cell_type": "code",
      "source": [
        "nltk.downloader.download('vader_lexicon')\n"
      ],
      "metadata": {
        "colab": {
          "base_uri": "https://localhost:8080/"
        },
        "id": "ilezCOOHqIk0",
        "outputId": "452e6ded-f3ba-467c-c864-42611d130f72"
      },
      "execution_count": null,
      "outputs": [
        {
          "output_type": "stream",
          "name": "stderr",
          "text": [
            "[nltk_data] Downloading package vader_lexicon to /root/nltk_data...\n"
          ]
        },
        {
          "output_type": "execute_result",
          "data": {
            "text/plain": [
              "True"
            ]
          },
          "metadata": {},
          "execution_count": 2
        }
      ]
    },
    {
      "cell_type": "code",
      "source": [
        "file = '/content/drive/MyDrive/Data/facebook_chats.xlsx'"
      ],
      "metadata": {
        "id": "jddP3BZQre2B"
      },
      "execution_count": null,
      "outputs": []
    },
    {
      "cell_type": "code",
      "source": [
        "xl = pd.ExcelFile(file)#Read from excel "
      ],
      "metadata": {
        "id": "bQQvVqiirvZo"
      },
      "execution_count": null,
      "outputs": []
    },
    {
      "cell_type": "markdown",
      "source": [
        "Conv the excel to dataframes"
      ],
      "metadata": {
        "id": "BY6CWpZzsHEI"
      }
    },
    {
      "cell_type": "code",
      "source": [
        "dfs = xl.parse(xl.sheet_names[0])"
      ],
      "metadata": {
        "id": "bxNpaidlr4mQ"
      },
      "execution_count": null,
      "outputs": []
    },
    {
      "cell_type": "markdown",
      "source": [
        "Deleting the blank rows\n"
      ],
      "metadata": {
        "id": "8SlHTD4Rsjsw"
      }
    },
    {
      "cell_type": "code",
      "source": [
        "dfs = list(dfs['Message'])\n",
        "print(dfs)"
      ],
      "metadata": {
        "colab": {
          "base_uri": "https://localhost:8080/"
        },
        "id": "dLxwEFTasiY5",
        "outputId": "c0cbbab2-d8e7-4d92-826c-31074a76ebbf"
      },
      "execution_count": null,
      "outputs": [
        {
          "output_type": "stream",
          "name": "stdout",
          "text": [
            "['Aswin', 'Where are you located?', 'Aswin', 'I love your art works!', 'Naveen', 'You are now connected on Messenger', 'Aswin', 'I hate ur drawings brother', 'Naveen', 'The new design is awful!', 'Aswin', 'I not sure about ur drawing', 'Naveen', 'No one has able to understand my issue or process the redund I was promised ', 'Aswin', 'I don’t like doing my Home works', 'Naveen', 'Can you help out finish my works ? ']\n"
          ]
        }
      ]
    },
    {
      "cell_type": "code",
      "source": [
        "sid = SentimentIntensityAnalyzer()"
      ],
      "metadata": {
        "id": "ecYllUmlulCt"
      },
      "execution_count": null,
      "outputs": []
    },
    {
      "cell_type": "code",
      "source": [
        "str1 = \"\"\n",
        "str2 = \"\"\n",
        "for data in dfs:\n",
        "  a=data.find(str1)\n",
        "  b= data.find(str2)\n",
        "  if(a==-1 and b==-1):\n",
        "    ss = sid.polarity_scores(data)\n",
        "    print(data)\n",
        "    for k in ss:\n",
        "      print(k,ss[k])"
      ],
      "metadata": {
        "colab": {
          "base_uri": "https://localhost:8080/"
        },
        "id": "_JwjenNKuybq",
        "outputId": "37a2df77-be7b-4e26-815f-8f17ba301891"
      },
      "execution_count": null,
      "outputs": [
        {
          "output_type": "stream",
          "name": "stdout",
          "text": [
            "Where are you located?\n",
            "neg 0.0\n",
            "neu 1.0\n",
            "pos 0.0\n",
            "compound 0.0\n",
            "I love your art works!\n",
            "neg 0.0\n",
            "neu 0.4\n",
            "pos 0.6\n",
            "compound 0.6696\n",
            "You are now connected on Messenger\n",
            "neg 0.0\n",
            "neu 1.0\n",
            "pos 0.0\n",
            "compound 0.0\n",
            "I hate ur drawings brother\n",
            "neg 0.552\n",
            "neu 0.448\n",
            "pos 0.0\n",
            "compound -0.5719\n",
            "The new design is awful!\n",
            "neg 0.451\n",
            "neu 0.549\n",
            "pos 0.0\n",
            "compound -0.5093\n",
            "I not sure about ur drawing\n",
            "neg 0.329\n",
            "neu 0.671\n",
            "pos 0.0\n",
            "compound -0.2411\n",
            "No one has able to understand my issue or process the redund I was promised \n",
            "neg 0.132\n",
            "neu 0.719\n",
            "pos 0.15\n",
            "compound 0.0772\n",
            "I don’t like doing my Home works\n",
            "neg 0.0\n",
            "neu 0.667\n",
            "pos 0.333\n",
            "compound 0.3612\n",
            "Can you help out finish my works ? \n",
            "neg 0.0\n",
            "neu 0.69\n",
            "pos 0.31\n",
            "compound 0.4019\n"
          ]
        }
      ]
    },
    {
      "cell_type": "markdown",
      "source": [
        "Compound is the Aggregated of all the sentiment "
      ],
      "metadata": {
        "id": "kVBc5PZEwe9i"
      }
    }
  ]
}